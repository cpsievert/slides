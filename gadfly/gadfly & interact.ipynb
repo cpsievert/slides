{
 "metadata": {
  "language": "Julia",
  "name": "",
  "signature": "sha256:434999f2a465548f43df76e3a933be49af3e5506ed30c9e0e884282f5bd44a0d"
 },
 "nbformat": 3,
 "nbformat_minor": 0,
 "worksheets": [
  {
   "cells": [
    {
     "cell_type": "heading",
     "level": 1,
     "metadata": {},
     "source": [
      "Interactive Plots with Gadfly, Interact, and IJulia"
     ]
    },
    {
     "cell_type": "code",
     "collapsed": false,
     "input": [
      "using RDatasets\n",
      "ggdat = RDatasets.datasets(\"ggplot2\") # convenient way to list datasets for a package"
     ],
     "language": "python",
     "metadata": {},
     "outputs": [
      {
       "html": [
        "<table class=\"data-frame\"><tr><th></th><th>Package</th><th>Dataset</th><th>Title</th><th>Rows</th><th>Columns</th></tr><tr><th>1</th><td>ggplot2</td><td>diamonds</td><td>Prices of 50,000 round cut diamonds</td><td>53940</td><td>10</td></tr><tr><th>2</th><td>ggplot2</td><td>economics</td><td>US economic time series.</td><td>478</td><td>6</td></tr><tr><th>3</th><td>ggplot2</td><td>midwest</td><td>Midwest demographics.</td><td>437</td><td>28</td></tr><tr><th>4</th><td>ggplot2</td><td>movies</td><td>Movie information and user ratings from IMDB.com.</td><td>58788</td><td>24</td></tr><tr><th>5</th><td>ggplot2</td><td>mpg</td><td>Fuel economy data from 1999 and 2008 for 38 popular models of car</td><td>234</td><td>11</td></tr><tr><th>6</th><td>ggplot2</td><td>msleep</td><td>An updated and expanded version of the mammals sleep dataset.</td><td>83</td><td>11</td></tr><tr><th>7</th><td>ggplot2</td><td>presidential</td><td>Terms of 10 presidents from Eisenhower to Bush W.</td><td>10</td><td>4</td></tr><tr><th>8</th><td>ggplot2</td><td>seals</td><td>Vector field of seal movements.</td><td>1155</td><td>4</td></tr></table>"
       ],
       "metadata": {},
       "output_type": "pyout",
       "prompt_number": 6,
       "text": [
        "8x5 DataFrame\n",
        "| Row | Package   | Dataset        |\n",
        "|-----|-----------|----------------|\n",
        "| 1   | \"ggplot2\" | \"diamonds\"     |\n",
        "| 2   | \"ggplot2\" | \"economics\"    |\n",
        "| 3   | \"ggplot2\" | \"midwest\"      |\n",
        "| 4   | \"ggplot2\" | \"movies\"       |\n",
        "| 5   | \"ggplot2\" | \"mpg\"          |\n",
        "| 6   | \"ggplot2\" | \"msleep\"       |\n",
        "| 7   | \"ggplot2\" | \"presidential\" |\n",
        "| 8   | \"ggplot2\" | \"seals\"        |\n",
        "\n",
        "| Row | Title                                                               |\n",
        "|-----|---------------------------------------------------------------------|\n",
        "| 1   | \"Prices of 50,000 round cut diamonds\"                               |\n",
        "| 2   | \"US economic time series.\"                                          |\n",
        "| 3   | \"Midwest demographics.\"                                             |\n",
        "| 4   | \"Movie information and user ratings from IMDB.com.\"                 |\n",
        "| 5   | \"Fuel economy data from 1999 and 2008 for 38 popular models of car\" |\n",
        "| 6   | \"An updated and expanded version of the mammals sleep dataset.\"     |\n",
        "| 7   | \"Terms of 10 presidents from Eisenhower to Bush W.\"                 |\n",
        "| 8   | \"Vector field of seal movements.\"                                   |\n",
        "\n",
        "| Row | Rows  | Columns |\n",
        "|-----|-------|---------|\n",
        "| 1   | 53940 | 10      |\n",
        "| 2   | 478   | 6       |\n",
        "| 3   | 437   | 28      |\n",
        "| 4   | 58788 | 24      |\n",
        "| 5   | 234   | 11      |\n",
        "| 6   | 83    | 11      |\n",
        "| 7   | 10    | 4       |\n",
        "| 8   | 1155  | 4       |"
       ]
      }
     ],
     "prompt_number": 6
    },
    {
     "cell_type": "markdown",
     "metadata": {},
     "source": [
      "Note that we can extract the dataset names as a DataArray "
     ]
    },
    {
     "cell_type": "code",
     "collapsed": false,
     "input": [
      "ggdat[:Dataset]"
     ],
     "language": "python",
     "metadata": {},
     "outputs": [
      {
       "metadata": {},
       "output_type": "pyout",
       "prompt_number": 7,
       "text": [
        "8-element DataArray{UTF8String,1}:\n",
        " \"diamonds\"    \n",
        " \"economics\"   \n",
        " \"midwest\"     \n",
        " \"movies\"      \n",
        " \"mpg\"         \n",
        " \"msleep\"      \n",
        " \"presidential\"\n",
        " \"seals\"       "
       ]
      }
     ],
     "prompt_number": 7
    },
    {
     "cell_type": "heading",
     "level": 3,
     "metadata": {},
     "source": [
      "using Interact"
     ]
    },
    {
     "cell_type": "markdown",
     "metadata": {},
     "source": [
      "Interact.jl provides \"shiny-like\" HTML widgets that gives us the ability to do \"indirect manipulation\" inside an IPython notebook. Interact.jl is built on top of Reactive.jl -- a general framework for reactive programming."
     ]
    },
    {
     "cell_type": "code",
     "collapsed": false,
     "input": [
      "using Interact\n",
      "@manipulate for dataName = ggdat[:Dataset] # Interact's widget defaults are based on variable types\n",
      "    dat =  dataset(\"ggplot2\", dataName)\n",
      "end"
     ],
     "language": "python",
     "metadata": {},
     "outputs": [
      {
       "html": [],
       "metadata": {},
       "output_type": "display_data",
       "text": [
        "Options{:ToggleButtons,UTF8String}([Input{UTF8String}] diamonds,\"dataName\",\"diamonds\",\"diamonds\",[\"diamonds\"=>\"diamonds\",\"economics\"=>\"economics\",\"midwest\"=>\"midwest\",\"movies\"=>\"movies\",\"mpg\"=>\"mpg\",\"msleep\"=>\"msleep\",\"presidential\"=>\"presidential\",\"seals\"=>\"seals\"])"
       ]
      },
      {
       "html": [
        "<table class=\"data-frame\"><tr><th></th><th>Carat</th><th>Cut</th><th>Color</th><th>Clarity</th><th>Depth</th><th>Table</th><th>Price</th><th>X</th><th>Y</th><th>Z</th></tr><tr><th>1</th><td>0.23</td><td>Ideal</td><td>E</td><td>SI2</td><td>61.5</td><td>55.0</td><td>326</td><td>3.95</td><td>3.98</td><td>2.43</td></tr><tr><th>2</th><td>0.21</td><td>Premium</td><td>E</td><td>SI1</td><td>59.8</td><td>61.0</td><td>326</td><td>3.89</td><td>3.84</td><td>2.31</td></tr><tr><th>3</th><td>0.23</td><td>Good</td><td>E</td><td>VS1</td><td>56.9</td><td>65.0</td><td>327</td><td>4.05</td><td>4.07</td><td>2.31</td></tr><tr><th>4</th><td>0.29</td><td>Premium</td><td>I</td><td>VS2</td><td>62.4</td><td>58.0</td><td>334</td><td>4.2</td><td>4.23</td><td>2.63</td></tr><tr><th>5</th><td>0.31</td><td>Good</td><td>J</td><td>SI2</td><td>63.3</td><td>58.0</td><td>335</td><td>4.34</td><td>4.35</td><td>2.75</td></tr><tr><th>6</th><td>0.24</td><td>Very Good</td><td>J</td><td>VVS2</td><td>62.8</td><td>57.0</td><td>336</td><td>3.94</td><td>3.96</td><td>2.48</td></tr><tr><th>7</th><td>0.24</td><td>Very Good</td><td>I</td><td>VVS1</td><td>62.3</td><td>57.0</td><td>336</td><td>3.95</td><td>3.98</td><td>2.47</td></tr><tr><th>8</th><td>0.26</td><td>Very Good</td><td>H</td><td>SI1</td><td>61.9</td><td>55.0</td><td>337</td><td>4.07</td><td>4.11</td><td>2.53</td></tr><tr><th>9</th><td>0.22</td><td>Fair</td><td>E</td><td>VS2</td><td>65.1</td><td>61.0</td><td>337</td><td>3.87</td><td>3.78</td><td>2.49</td></tr><tr><th>10</th><td>0.23</td><td>Very Good</td><td>H</td><td>VS1</td><td>59.4</td><td>61.0</td><td>338</td><td>4.0</td><td>4.05</td><td>2.39</td></tr><tr><th>11</th><td>0.3</td><td>Good</td><td>J</td><td>SI1</td><td>64.0</td><td>55.0</td><td>339</td><td>4.25</td><td>4.28</td><td>2.73</td></tr><tr><th>12</th><td>0.23</td><td>Ideal</td><td>J</td><td>VS1</td><td>62.8</td><td>56.0</td><td>340</td><td>3.93</td><td>3.9</td><td>2.46</td></tr><tr><th>13</th><td>0.22</td><td>Premium</td><td>F</td><td>SI1</td><td>60.4</td><td>61.0</td><td>342</td><td>3.88</td><td>3.84</td><td>2.33</td></tr><tr><th>14</th><td>0.31</td><td>Ideal</td><td>J</td><td>SI2</td><td>62.2</td><td>54.0</td><td>344</td><td>4.35</td><td>4.37</td><td>2.71</td></tr><tr><th>15</th><td>0.2</td><td>Premium</td><td>E</td><td>SI2</td><td>60.2</td><td>62.0</td><td>345</td><td>3.79</td><td>3.75</td><td>2.27</td></tr><tr><th>16</th><td>0.32</td><td>Premium</td><td>E</td><td>I1</td><td>60.9</td><td>58.0</td><td>345</td><td>4.38</td><td>4.42</td><td>2.68</td></tr><tr><th>17</th><td>0.3</td><td>Ideal</td><td>I</td><td>SI2</td><td>62.0</td><td>54.0</td><td>348</td><td>4.31</td><td>4.34</td><td>2.68</td></tr><tr><th>18</th><td>0.3</td><td>Good</td><td>J</td><td>SI1</td><td>63.4</td><td>54.0</td><td>351</td><td>4.23</td><td>4.29</td><td>2.7</td></tr><tr><th>19</th><td>0.3</td><td>Good</td><td>J</td><td>SI1</td><td>63.8</td><td>56.0</td><td>351</td><td>4.23</td><td>4.26</td><td>2.71</td></tr><tr><th>20</th><td>0.3</td><td>Very Good</td><td>J</td><td>SI1</td><td>62.7</td><td>59.0</td><td>351</td><td>4.21</td><td>4.27</td><td>2.66</td></tr><tr><th>21</th><td>0.3</td><td>Good</td><td>I</td><td>SI2</td><td>63.3</td><td>56.0</td><td>351</td><td>4.26</td><td>4.3</td><td>2.71</td></tr><tr><th>22</th><td>0.23</td><td>Very Good</td><td>E</td><td>VS2</td><td>63.8</td><td>55.0</td><td>352</td><td>3.85</td><td>3.92</td><td>2.48</td></tr><tr><th>23</th><td>0.23</td><td>Very Good</td><td>H</td><td>VS1</td><td>61.0</td><td>57.0</td><td>353</td><td>3.94</td><td>3.96</td><td>2.41</td></tr><tr><th>24</th><td>0.31</td><td>Very Good</td><td>J</td><td>SI1</td><td>59.4</td><td>62.0</td><td>353</td><td>4.39</td><td>4.43</td><td>2.62</td></tr><tr><th>25</th><td>0.31</td><td>Very Good</td><td>J</td><td>SI1</td><td>58.1</td><td>62.0</td><td>353</td><td>4.44</td><td>4.47</td><td>2.59</td></tr><tr><th>26</th><td>0.23</td><td>Very Good</td><td>G</td><td>VVS2</td><td>60.4</td><td>58.0</td><td>354</td><td>3.97</td><td>4.01</td><td>2.41</td></tr><tr><th>27</th><td>0.24</td><td>Premium</td><td>I</td><td>VS1</td><td>62.5</td><td>57.0</td><td>355</td><td>3.97</td><td>3.94</td><td>2.47</td></tr><tr><th>28</th><td>0.3</td><td>Very Good</td><td>J</td><td>VS2</td><td>62.2</td><td>57.0</td><td>357</td><td>4.28</td><td>4.3</td><td>2.67</td></tr><tr><th>29</th><td>0.23</td><td>Very Good</td><td>D</td><td>VS2</td><td>60.5</td><td>61.0</td><td>357</td><td>3.96</td><td>3.97</td><td>2.4</td></tr><tr><th>30</th><td>0.23</td><td>Very Good</td><td>F</td><td>VS1</td><td>60.9</td><td>57.0</td><td>357</td><td>3.96</td><td>3.99</td><td>2.42</td></tr><tr><th>&vellip;</th><td>&vellip;</td><td>&vellip;</td><td>&vellip;</td><td>&vellip;</td><td>&vellip;</td><td>&vellip;</td><td>&vellip;</td><td>&vellip;</td><td>&vellip;</td><td>&vellip;</td></tr></table>"
       ],
       "metadata": {
        "comm_id": "95c4c317-f1c2-4fdc-b33b-199e93d5edf8",
        "reactive": true
       },
       "output_type": "pyout",
       "prompt_number": 8,
       "text": [
        "53940x10 DataFrame\n",
        "| Row   | Carat | Cut         | Color | Clarity | Depth | Table | Price | X    |\n",
        "|-------|-------|-------------|-------|---------|-------|-------|-------|------|\n",
        "| 1     | 0.23  | \"Ideal\"     | \"E\"   | \"SI2\"   | 61.5  | 55.0  | 326   | 3.95 |\n",
        "| 2     | 0.21  | \"Premium\"   | \"E\"   | \"SI1\"   | 59.8  | 61.0  | 326   | 3.89 |\n",
        "| 3     | 0.23  | \"Good\"      | \"E\"   | \"VS1\"   | 56.9  | 65.0  | 327   | 4.05 |\n",
        "| 4     | 0.29  | \"Premium\"   | \"I\"   | \"VS2\"   | 62.4  | 58.0  | 334   | 4.2  |\n",
        "| 5     | 0.31  | \"Good\"      | \"J\"   | \"SI2\"   | 63.3  | 58.0  | 335   | 4.34 |\n",
        "| 6     | 0.24  | \"Very Good\" | \"J\"   | \"VVS2\"  | 62.8  | 57.0  | 336   | 3.94 |\n",
        "| 7     | 0.24  | \"Very Good\" | \"I\"   | \"VVS1\"  | 62.3  | 57.0  | 336   | 3.95 |\n",
        "| 8     | 0.26  | \"Very Good\" | \"H\"   | \"SI1\"   | 61.9  | 55.0  | 337   | 4.07 |\n",
        "| 9     | 0.22  | \"Fair\"      | \"E\"   | \"VS2\"   | 65.1  | 61.0  | 337   | 3.87 |\n",
        "| 10    | 0.23  | \"Very Good\" | \"H\"   | \"VS1\"   | 59.4  | 61.0  | 338   | 4.0  |\n",
        "| 11    | 0.3   | \"Good\"      | \"J\"   | \"SI1\"   | 64.0  | 55.0  | 339   | 4.25 |\n",
        "\u22ee\n",
        "| 53929 | 0.79  | \"Premium\"   | \"E\"   | \"SI2\"   | 61.4  | 58.0  | 2756  | 6.03 |\n",
        "| 53930 | 0.71  | \"Ideal\"     | \"G\"   | \"VS1\"   | 61.4  | 56.0  | 2756  | 5.76 |\n",
        "| 53931 | 0.71  | \"Premium\"   | \"E\"   | \"SI1\"   | 60.5  | 55.0  | 2756  | 5.79 |\n",
        "| 53932 | 0.71  | \"Premium\"   | \"F\"   | \"SI1\"   | 59.8  | 62.0  | 2756  | 5.74 |\n",
        "| 53933 | 0.7   | \"Very Good\" | \"E\"   | \"VS2\"   | 60.5  | 59.0  | 2757  | 5.71 |\n",
        "| 53934 | 0.7   | \"Very Good\" | \"E\"   | \"VS2\"   | 61.2  | 59.0  | 2757  | 5.69 |\n",
        "| 53935 | 0.72  | \"Premium\"   | \"D\"   | \"SI1\"   | 62.7  | 59.0  | 2757  | 5.69 |\n",
        "| 53936 | 0.72  | \"Ideal\"     | \"D\"   | \"SI1\"   | 60.8  | 57.0  | 2757  | 5.75 |\n",
        "| 53937 | 0.72  | \"Good\"      | \"D\"   | \"SI1\"   | 63.1  | 55.0  | 2757  | 5.69 |\n",
        "| 53938 | 0.7   | \"Very Good\" | \"D\"   | \"SI1\"   | 62.8  | 60.0  | 2757  | 5.66 |\n",
        "| 53939 | 0.86  | \"Premium\"   | \"H\"   | \"SI2\"   | 61.0  | 58.0  | 2757  | 6.15 |\n",
        "| 53940 | 0.75  | \"Ideal\"     | \"D\"   | \"SI2\"   | 62.2  | 55.0  | 2757  | 5.83 |\n",
        "\n",
        "| Row   | Y    | Z    |\n",
        "|-------|------|------|\n",
        "| 1     | 3.98 | 2.43 |\n",
        "| 2     | 3.84 | 2.31 |\n",
        "| 3     | 4.07 | 2.31 |\n",
        "| 4     | 4.23 | 2.63 |\n",
        "| 5     | 4.35 | 2.75 |\n",
        "| 6     | 3.96 | 2.48 |\n",
        "| 7     | 3.98 | 2.47 |\n",
        "| 8     | 4.11 | 2.53 |\n",
        "| 9     | 3.78 | 2.49 |\n",
        "| 10    | 4.05 | 2.39 |\n",
        "| 11    | 4.28 | 2.73 |\n",
        "\u22ee\n",
        "| 53929 | 5.96 | 3.68 |\n",
        "| 53930 | 5.73 | 3.53 |\n",
        "| 53931 | 5.74 | 3.49 |\n",
        "| 53932 | 5.73 | 3.43 |\n",
        "| 53933 | 5.76 | 3.47 |\n",
        "| 53934 | 5.72 | 3.49 |\n",
        "| 53935 | 5.73 | 3.58 |\n",
        "| 53936 | 5.76 | 3.5  |\n",
        "| 53937 | 5.75 | 3.61 |\n",
        "| 53938 | 5.68 | 3.56 |\n",
        "| 53939 | 6.12 | 3.74 |\n",
        "| 53940 | 5.87 | 3.64 |"
       ]
      }
     ],
     "prompt_number": 8
    },
    {
     "cell_type": "heading",
     "level": 2,
     "metadata": {},
     "source": [
      "Gadfly"
     ]
    },
    {
     "cell_type": "code",
     "collapsed": false,
     "input": [
      "using Gadfly\n",
      "diamonds = dataset(\"ggplot2\", \"diamonds\");\n",
      "set_default_plot_size(16cm, 12cm);"
     ],
     "language": "python",
     "metadata": {},
     "outputs": [],
     "prompt_number": 11
    },
    {
     "cell_type": "code",
     "collapsed": false,
     "input": [
      "@manipulate for xn = 10:100, yn = 10:100\n",
      "    plot(diamonds, x = \"Carat\", y = \"Price\", Geom.hexbin(xbincount = xn, ybincount = yn))\n",
      "end"
     ],
     "language": "python",
     "metadata": {},
     "outputs": [
      {
       "html": [],
       "metadata": {},
       "output_type": "display_data",
       "text": [
        "Slider{Int64}([Input{Int64}] 55,\"xn\",55,10:100)"
       ]
      },
      {
       "html": [],
       "metadata": {},
       "output_type": "display_data",
       "text": [
        "Slider{Int64}([Input{Int64}] 55,\"yn\",55,10:100)"
       ]
      },
      {
       "ename": "LoadError",
       "evalue": "plot not defined\nwhile loading In[12], in expression starting on line 1",
       "output_type": "pyerr",
       "traceback": [
        "plot not defined\nwhile loading In[12], in expression starting on line 1",
        "",
        " in anonymous at no file:2"
       ]
      }
     ],
     "prompt_number": 12
    },
    {
     "cell_type": "code",
     "collapsed": false,
     "input": [],
     "language": "python",
     "metadata": {},
     "outputs": []
    }
   ],
   "metadata": {}
  }
 ]
}